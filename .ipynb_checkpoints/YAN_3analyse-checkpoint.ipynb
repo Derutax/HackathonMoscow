{
 "cells": [
  {
   "cell_type": "markdown",
   "metadata": {},
   "source": [
    "# 3) Using the calculation done to do machine leaning"
   ]
  },
  {
   "cell_type": "code",
   "execution_count": 6,
   "metadata": {},
   "outputs": [],
   "source": [
    "#Importing\n",
    "import pandas as pd\n",
    "import geopandas as gpd\n",
    "import matplotlib.pyplot as plt\n",
    "import numpy as np\n",
    "from osgeo import osr, ogr\n",
    "import os\n",
    "from geopandas import gpd\n",
    "from shapely.geometry import Polygon\n",
    "from shapely.geometry import Point\n",
    "from sklearn.model_selection import GridSearchCV\n",
    "from sklearn.model_selection import cross_val_score\n",
    "from sklearn.model_selection import ShuffleSplit\n",
    "from sklearn.preprocessing import MinMaxScaler\n",
    "##Model Classification\n",
    "from sklearn import tree\n",
    "from sklearn.ensemble import AdaBoostClassifier\n",
    "from sklearn.ensemble import RandomForestClassifier\n",
    "from sklearn.neighbors import NearestCentroid\n",
    "from sklearn.neighbors import KNeighborsClassifier"
   ]
  },
  {
   "cell_type": "code",
   "execution_count": 2,
   "metadata": {},
   "outputs": [],
   "source": [
    "df_computed_informations = pd.read_pickle('df_computed.pk')"
   ]
  },
  {
   "cell_type": "code",
   "execution_count": 15,
   "metadata": {},
   "outputs": [],
   "source": [
    "df_criteria = pd.read_pickle('df_criteria.pk')"
   ]
  },
  {
   "cell_type": "markdown",
   "metadata": {},
   "source": [
    "#### This line regroup the three criteria as one by changing some rule multiplying by -10 and adding 10 to noise and smell make then 0 or 10 because they are relevant indicator and clean can go up to 12 to have some weight as the two others"
   ]
  },
  {
   "cell_type": "code",
   "execution_count": 26,
   "metadata": {},
   "outputs": [],
   "source": [
    "df_all_criteria = ((df_criteria['noise']*-10)+10)+((df_criteria['smell']*-10)+10)+(df_criteria['clean']*3)"
   ]
  },
  {
   "cell_type": "code",
   "execution_count": 48,
   "metadata": {},
   "outputs": [],
   "source": [
    "Z = pd.DataFrame.copy(df_all_criteria)\n",
    "Z[df_all_criteria >=20] ='Pretty good'\n",
    "Z[(df_all_criteria >=10)&(df_all_criteria <20)] ='Decent'\n",
    "Z[df_all_criteria <=10] ='Horrible'"
   ]
  },
  {
   "cell_type": "code",
   "execution_count": 49,
   "metadata": {},
   "outputs": [
    {
     "data": {
      "text/plain": [
       "0.7294871794871796"
      ]
     },
     "execution_count": 49,
     "metadata": {},
     "output_type": "execute_result"
    }
   ],
   "source": [
    "## Scale the input data\n",
    "df_computed_informations = MinMaxScaler().fit_transform(df_computed_informations)\n",
    "\n",
    "knclf = KNeighborsClassifier(weights='distance')\n",
    "scoresKNeigh = cross_val_score(knclf, df_computed_informations , Z ,cv=ShuffleSplit(n_splits=20))\n",
    "np.mean(scoresKNeigh)"
   ]
  },
  {
   "cell_type": "code",
   "execution_count": 50,
   "metadata": {},
   "outputs": [
    {
     "data": {
      "text/plain": [
       "0.7449999999999999"
      ]
     },
     "execution_count": 50,
     "metadata": {},
     "output_type": "execute_result"
    }
   ],
   "source": [
    "## Creating sample with for train and test datasets\n",
    "from sklearn.model_selection import train_test_split\n",
    "X_train, X_test, Y_train, Y_test = train_test_split(df_computed_informations, Z, test_size=0.25,random_state=42)\n",
    "knclf = KNeighborsClassifier(weights='distance')\n",
    "scoresKNeigh = cross_val_score(knclf, X_train , Y_train ,cv=ShuffleSplit(n_splits=20))\n",
    "np.mean(scoresKNeigh)"
   ]
  },
  {
   "cell_type": "code",
   "execution_count": 51,
   "metadata": {},
   "outputs": [
    {
     "data": {
      "text/plain": [
       "0.7653061224489796"
      ]
     },
     "execution_count": 51,
     "metadata": {},
     "output_type": "execute_result"
    }
   ],
   "source": [
    "clf=KNeighborsClassifier(weights='distance')\n",
    "clf.fit(X_train,Y_train)\n",
    "Y_pred= clf.predict(X_test)\n",
    "np.mean(Y_pred==Y_test)"
   ]
  },
  {
   "cell_type": "markdown",
   "metadata": {},
   "source": [
    "# DISCUSSION\n",
    "For my US01 project I decided to consider the three criteria as one (df_all_criteria) by applying some calculation, we have numbers who can go from 3 to 32 as smell/noise are equal to 0 or 10 and clean can be 3/6/9 or 12. Thanks to that, I defided a 3 criteria Z with pretty good, decent and horrible. Pretty good is reachable for smell/noise both at 10 or at least one at 10 with clean at 12 Decent can contain a 12 clean score or any other clean score with one smell/noise equal to 10. Horrible is for a smell/noise equal to 0 and a clean which is bellow 12.\n",
    "With that smell and noise are powerfull for being happy but clean still have some importance.\n",
    "I took several inputs that make me think about noise, clean and smell to test the algorithm.\n",
    "Crowded in China use to me smelly, noisy and dirty so the most are people the most we can find those arguments. \n",
    "Transportation, Shopping, Restaurant, Sports and leisure, Scenic spot, Science and education culture, Mobikes, Taxis and Parks should help in the classification of if a place is dirty, smelly or noisy.\n",
    "I chose to use KNeighbors Classifier because it should be relevant for a classification where we try to find similarity between close people as two neighbors should have same criteria of smell.noise/clean\n",
    "The score is above 70% which is pretty good since there is 3 classifications: 70% for a 1/3 random chance"
   ]
  },
  {
   "cell_type": "code",
   "execution_count": 62,
   "metadata": {},
   "outputs": [
    {
     "data": {
      "text/plain": [
       "230"
      ]
     },
     "execution_count": 62,
     "metadata": {},
     "output_type": "execute_result"
    }
   ],
   "source": [
    "Y_train[Y_train =='Pretty good'].count()"
   ]
  },
  {
   "cell_type": "code",
   "execution_count": 63,
   "metadata": {},
   "outputs": [
    {
     "data": {
      "text/plain": [
       "59"
      ]
     },
     "execution_count": 63,
     "metadata": {},
     "output_type": "execute_result"
    }
   ],
   "source": [
    "Y_train[Y_train =='Decent'].count()"
   ]
  },
  {
   "cell_type": "code",
   "execution_count": 65,
   "metadata": {},
   "outputs": [
    {
     "data": {
      "text/plain": [
       "2"
      ]
     },
     "execution_count": 65,
     "metadata": {},
     "output_type": "execute_result"
    }
   ],
   "source": [
    "Y_train[Y_train =='Horrible'].count()"
   ]
  },
  {
   "cell_type": "markdown",
   "metadata": {},
   "source": [
    "# DISCUSSION2\n",
    "Since I count the number of Pretty Good/Decent/Horrible I saw there is not many Horrible, there is two possibility: the chinese are happy with their living or I chose bad criteria ranking. I think this is my problem and maybe we can consider horrible if the score is equal or bellow 16 this should add some persons to horrible and give the model more sens. I also adjust the Pretty good and decent criteria."
   ]
  },
  {
   "cell_type": "code",
   "execution_count": 66,
   "metadata": {},
   "outputs": [],
   "source": [
    "Z = pd.DataFrame.copy(df_all_criteria)\n",
    "Z[df_all_criteria >=26] ='Pretty good'\n",
    "Z[(df_all_criteria >16)&(df_all_criteria <26)] ='Decent'\n",
    "Z[df_all_criteria <=16] ='Horrible'"
   ]
  },
  {
   "cell_type": "code",
   "execution_count": 67,
   "metadata": {},
   "outputs": [
    {
     "data": {
      "text/plain": [
       "0.7217948717948718"
      ]
     },
     "execution_count": 67,
     "metadata": {},
     "output_type": "execute_result"
    }
   ],
   "source": [
    "## Scale the input data\n",
    "df_computed_informations = pd.read_pickle('df_computed.pk')\n",
    "df_computed_informations = MinMaxScaler().fit_transform(df_computed_informations)\n",
    "\n",
    "knclf = KNeighborsClassifier(weights='distance')\n",
    "scoresKNeigh = cross_val_score(knclf, df_computed_informations , Z ,cv=ShuffleSplit(n_splits=20))\n",
    "np.mean(scoresKNeigh)"
   ]
  },
  {
   "cell_type": "code",
   "execution_count": 68,
   "metadata": {},
   "outputs": [
    {
     "data": {
      "text/plain": [
       "0.7166666666666666"
      ]
     },
     "execution_count": 68,
     "metadata": {},
     "output_type": "execute_result"
    }
   ],
   "source": [
    "## Creating sample with for train and test datasets\n",
    "from sklearn.model_selection import train_test_split\n",
    "X_train, X_test, Y_train, Y_test = train_test_split(df_computed_informations, Z, test_size=0.25,random_state=42)\n",
    "knclf = KNeighborsClassifier(weights='distance')\n",
    "scoresKNeigh = cross_val_score(knclf, X_train , Y_train ,cv=ShuffleSplit(n_splits=20))\n",
    "np.mean(scoresKNeigh)"
   ]
  },
  {
   "cell_type": "code",
   "execution_count": 69,
   "metadata": {},
   "outputs": [
    {
     "data": {
      "text/plain": [
       "0.7346938775510204"
      ]
     },
     "execution_count": 69,
     "metadata": {},
     "output_type": "execute_result"
    }
   ],
   "source": [
    "clf=KNeighborsClassifier(weights='distance')\n",
    "clf.fit(X_train,Y_train)\n",
    "Y_pred= clf.predict(X_test)\n",
    "np.mean(Y_pred==Y_test)"
   ]
  },
  {
   "cell_type": "code",
   "execution_count": 73,
   "metadata": {},
   "outputs": [
    {
     "data": {
      "text/plain": [
       "223"
      ]
     },
     "execution_count": 73,
     "metadata": {},
     "output_type": "execute_result"
    }
   ],
   "source": [
    "Y_train[Y_train=='Pretty good'].count()"
   ]
  },
  {
   "cell_type": "code",
   "execution_count": 74,
   "metadata": {},
   "outputs": [
    {
     "data": {
      "text/plain": [
       "29"
      ]
     },
     "execution_count": 74,
     "metadata": {},
     "output_type": "execute_result"
    }
   ],
   "source": [
    "Y_train[Y_train=='Decent'].count()"
   ]
  },
  {
   "cell_type": "code",
   "execution_count": 76,
   "metadata": {},
   "outputs": [
    {
     "data": {
      "text/plain": [
       "39"
      ]
     },
     "execution_count": 76,
     "metadata": {},
     "output_type": "execute_result"
    }
   ],
   "source": [
    "Y_train[Y_train=='Horrible'].count()"
   ]
  },
  {
   "cell_type": "markdown",
   "metadata": {},
   "source": [
    "# Final DISCUSSION\n",
    "Since I upgraded my classification notation, and basicly a big amount of Decent went to Horrible wen a few Pretty good droped in Decent"
   ]
  }
 ],
 "metadata": {
  "kernelspec": {
   "display_name": "Python 3",
   "language": "python",
   "name": "python3"
  },
  "language_info": {
   "codemirror_mode": {
    "name": "ipython",
    "version": 3
   },
   "file_extension": ".py",
   "mimetype": "text/x-python",
   "name": "python",
   "nbconvert_exporter": "python",
   "pygments_lexer": "ipython3",
   "version": "3.7.3"
  }
 },
 "nbformat": 4,
 "nbformat_minor": 4
}

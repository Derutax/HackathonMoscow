{
 "cells": [
  {
   "cell_type": "markdown",
   "metadata": {},
   "source": [
    "# 1) Gathering datas into pickles"
   ]
  },
  {
   "cell_type": "code",
   "execution_count": 2,
   "metadata": {},
   "outputs": [],
   "source": [
    "#This part is dedicated to the gathering of the informations we are going to use to predict our wellbeing\n",
    "#The pickle file that is created is already in the folder to prevent launching calculation if needed"
   ]
  },
  {
   "cell_type": "code",
   "execution_count": 14,
   "metadata": {},
   "outputs": [],
   "source": [
    "#Importing\n",
    "import pandas as pd"
   ]
  },
  {
   "cell_type": "code",
   "execution_count": null,
   "metadata": {},
   "outputs": [],
   "source": []
  },
  {
   "cell_type": "code",
   "execution_count": null,
   "metadata": {},
   "outputs": [],
   "source": []
  },
  {
   "cell_type": "code",
   "execution_count": null,
   "metadata": {},
   "outputs": [],
   "source": []
  },
  {
   "cell_type": "markdown",
   "metadata": {},
   "source": [
    "## Fonction to transform longitude and Latitude to metrics position"
   ]
  },
  {
   "cell_type": "code",
   "execution_count": 15,
   "metadata": {},
   "outputs": [],
   "source": [
    "from osgeo import osr, ogr\n",
    "old_crs = osr.SpatialReference()\n",
    "old_crs.ImportFromEPSG(4326)\n",
    "new_crs = osr.SpatialReference()\n",
    "new_crs.ImportFromEPSG(4479)\n",
    "transform = osr.CoordinateTransformation(old_crs,new_crs)\n",
    "\n",
    "def getNewLongitude(xy):\n",
    "    point = ogr.Geometry(ogr.wkbPoint)\n",
    "    point.AddPoint(float(xy[0]), float(xy[1]))\n",
    "    point.Transform(transform)\n",
    "    return point.GetX()\n",
    "\n",
    "def getNewLatitude(xy):\n",
    "    point = ogr.Geometry(ogr.wkbPoint)\n",
    "    point.AddPoint(float(xy[0]), float(xy[1]))\n",
    "    point.Transform(transform)\n",
    "    return point.GetY()"
   ]
  },
  {
   "cell_type": "markdown",
   "metadata": {},
   "source": [
    "## a. Parks"
   ]
  },
  {
   "cell_type": "code",
   "execution_count": 24,
   "metadata": {},
   "outputs": [],
   "source": [
    "#Park files and selecting only Shanghai parks and just geometry centroid for simple calculation\n",
    "df_park = pd.read_pickle('beijinglab-china-park.pk')\n",
    "df_park = df_park.loc[df_park['Name_City'] == '上海']\n",
    "df_park = df_park[\"geometry\"]\n",
    "df_park= df_park.centroid"
   ]
  },
  {
   "cell_type": "code",
   "execution_count": 24,
   "metadata": {},
   "outputs": [],
   "source": [
    "df_park.to_pickle(\"shanghaiparkcentroid.pk\")"
   ]
  },
  {
   "cell_type": "markdown",
   "metadata": {},
   "source": [
    "## b. Taxis"
   ]
  },
  {
   "cell_type": "code",
   "execution_count": 51,
   "metadata": {},
   "outputs": [],
   "source": [
    "#Taxi files, delete taxi outside of Shanghai \n",
    "df_taxi = pd.read_pickle('utseus-shanghai-taxi-speed-position-GDC2000.pk')\n",
    "df_taxi= df_taxi[(df_taxi['lon']>121.10157)&(df_taxi['lon']<121.804611)&(df_taxi['lat']>30.975)&(df_taxi['lat']<31.514955)]"
   ]
  },
  {
   "cell_type": "code",
   "execution_count": 52,
   "metadata": {},
   "outputs": [],
   "source": [
    "#convert to metric values\n",
    "df_taxi['newLon'] = df_taxi[['lon', 'lat']].apply(getNewLongitude, axis=1)\n",
    "df_taxi['newLat'] = df_taxi[['lon', 'lat']].apply(getNewLatitude, axis=1)"
   ]
  },
  {
   "cell_type": "code",
   "execution_count": 53,
   "metadata": {},
   "outputs": [],
   "source": [
    "df_taxi = df_taxi[['newLon','newLat']]"
   ]
  },
  {
   "cell_type": "code",
   "execution_count": 55,
   "metadata": {},
   "outputs": [],
   "source": [
    "df_taxi.to_pickle('taxiposition.pk')"
   ]
  },
  {
   "cell_type": "markdown",
   "metadata": {},
   "source": [
    "## c. Mobikes"
   ]
  },
  {
   "cell_type": "code",
   "execution_count": 56,
   "metadata": {},
   "outputs": [],
   "source": [
    "#We are going to consider the end location of the mobike because people use to go from A to B but also from B to A so some end will be the same as start. \n",
    "#Moreover some bike can be moved so the begin can be change by truck transportation which reset mobike localisation during night\n",
    "df_mobike = pd.read_pickle('utseus-mobike-2016.pk')"
   ]
  },
  {
   "cell_type": "code",
   "execution_count": 61,
   "metadata": {},
   "outputs": [],
   "source": [
    "df_mobike['newLon'] = df_mobike[['end_location_x', 'end_location_y']].apply(getNewLongitude, axis=1)\n",
    "df_mobike['newLat'] = df_mobike[['end_location_x', 'end_location_y']].apply(getNewLatitude, axis=1)\n"
   ]
  },
  {
   "cell_type": "code",
   "execution_count": 64,
   "metadata": {},
   "outputs": [],
   "source": [
    "df_mobike = df_mobike[['newLon','newLat']]"
   ]
  },
  {
   "cell_type": "code",
   "execution_count": 66,
   "metadata": {},
   "outputs": [],
   "source": [
    "df_mobike.to_pickle('mobikeposition.pk')"
   ]
  },
  {
   "cell_type": "markdown",
   "metadata": {},
   "source": [
    "## d. PoI"
   ]
  },
  {
   "cell_type": "code",
   "execution_count": 67,
   "metadata": {},
   "outputs": [],
   "source": [
    "#taking some points on interest and cutting the rest from our selection\n",
    "df_poi = pd.read_pickle('utseus-cendus-poi.pk')"
   ]
  },
  {
   "cell_type": "code",
   "execution_count": 70,
   "metadata": {
    "collapsed": true,
    "jupyter": {
     "outputs_hidden": true
    }
   },
   "outputs": [
    {
     "data": {
      "text/html": [
       "<div>\n",
       "<style scoped>\n",
       "    .dataframe tbody tr th:only-of-type {\n",
       "        vertical-align: middle;\n",
       "    }\n",
       "\n",
       "    .dataframe tbody tr th {\n",
       "        vertical-align: top;\n",
       "    }\n",
       "\n",
       "    .dataframe thead th {\n",
       "        text-align: right;\n",
       "    }\n",
       "</style>\n",
       "<table border=\"1\" class=\"dataframe\">\n",
       "  <thead>\n",
       "    <tr style=\"text-align: right;\">\n",
       "      <th></th>\n",
       "      <th>NAME</th>\n",
       "      <th>GPSX</th>\n",
       "      <th>GPSY</th>\n",
       "      <th>GBCODE</th>\n",
       "      <th>category</th>\n",
       "      <th>subcategory</th>\n",
       "      <th>subsubcategory</th>\n",
       "    </tr>\n",
       "  </thead>\n",
       "  <tbody>\n",
       "    <tr>\n",
       "      <th>0</th>\n",
       "      <td>2015年中国国际纱线(春夏)展览会</td>\n",
       "      <td>121.296368</td>\n",
       "      <td>31.188324</td>\n",
       "      <td>990000.0</td>\n",
       "      <td>Other points of interest</td>\n",
       "      <td>Natural Place Name Identification Points</td>\n",
       "      <td>Entrance name</td>\n",
       "    </tr>\n",
       "    <tr>\n",
       "      <th>1</th>\n",
       "      <td>勃兰登堡之声-2015家庭音乐会</td>\n",
       "      <td>121.473360</td>\n",
       "      <td>31.228923</td>\n",
       "      <td>990000.0</td>\n",
       "      <td>Other points of interest</td>\n",
       "      <td>Natural Place Name Identification Points</td>\n",
       "      <td>Entrance name</td>\n",
       "    </tr>\n",
       "    <tr>\n",
       "      <th>2</th>\n",
       "      <td>2015第十四届(上海)国际有机食品和绿色食品博览会</td>\n",
       "      <td>121.399378</td>\n",
       "      <td>31.205028</td>\n",
       "      <td>990000.0</td>\n",
       "      <td>Other points of interest</td>\n",
       "      <td>Natural Place Name Identification Points</td>\n",
       "      <td>Entrance name</td>\n",
       "    </tr>\n",
       "    <tr>\n",
       "      <th>3</th>\n",
       "      <td>星星火炬上海组委会</td>\n",
       "      <td>121.529628</td>\n",
       "      <td>31.271063</td>\n",
       "      <td>990000.0</td>\n",
       "      <td>Other points of interest</td>\n",
       "      <td>Natural Place Name Identification Points</td>\n",
       "      <td>Entrance name</td>\n",
       "    </tr>\n",
       "    <tr>\n",
       "      <th>4</th>\n",
       "      <td>2016VGT国际铁人三项赛</td>\n",
       "      <td>121.169185</td>\n",
       "      <td>31.282332</td>\n",
       "      <td>990000.0</td>\n",
       "      <td>Other points of interest</td>\n",
       "      <td>Natural Place Name Identification Points</td>\n",
       "      <td>Entrance name</td>\n",
       "    </tr>\n",
       "  </tbody>\n",
       "</table>\n",
       "</div>"
      ],
      "text/plain": [
       "                         NAME        GPSX       GPSY    GBCODE  \\\n",
       "0          2015年中国国际纱线(春夏)展览会  121.296368  31.188324  990000.0   \n",
       "1            勃兰登堡之声-2015家庭音乐会  121.473360  31.228923  990000.0   \n",
       "2  2015第十四届(上海)国际有机食品和绿色食品博览会  121.399378  31.205028  990000.0   \n",
       "3                   星星火炬上海组委会  121.529628  31.271063  990000.0   \n",
       "4              2016VGT国际铁人三项赛  121.169185  31.282332  990000.0   \n",
       "\n",
       "                   category                               subcategory  \\\n",
       "0  Other points of interest  Natural Place Name Identification Points   \n",
       "1  Other points of interest  Natural Place Name Identification Points   \n",
       "2  Other points of interest  Natural Place Name Identification Points   \n",
       "3  Other points of interest  Natural Place Name Identification Points   \n",
       "4  Other points of interest  Natural Place Name Identification Points   \n",
       "\n",
       "  subsubcategory  \n",
       "0  Entrance name  \n",
       "1  Entrance name  \n",
       "2  Entrance name  \n",
       "3  Entrance name  \n",
       "4  Entrance name  "
      ]
     },
     "execution_count": 70,
     "metadata": {},
     "output_type": "execute_result"
    }
   ],
   "source": [
    "df_poi= df_poi[(df_poi['GPSX']>121.10157)&(df_poi['GPSX']<121.804611)&(df_poi['GPSY']>30.975)&(df_poi['GPSY']<31.514955)]"
   ]
  },
  {
   "cell_type": "code",
   "execution_count": 83,
   "metadata": {},
   "outputs": [
    {
     "data": {
      "text/plain": [
       "NAME              1538704\n",
       "GPSX              1538704\n",
       "GPSY              1538704\n",
       "GBCODE            1538704\n",
       "category          1538704\n",
       "subcategory       1538704\n",
       "subsubcategory    1538704\n",
       "dtype: int64"
      ]
     },
     "execution_count": 83,
     "metadata": {},
     "output_type": "execute_result"
    }
   ],
   "source": [
    "df_poi = df_poi[df_poi.category != 'Other points of interest']\n",
    "df_poi = df_poi.dropna()\n",
    "df_poi = df_poi[df_poi.category != 'Organ group']\n",
    "df_poi = df_poi[df_poi.category != 'Location Location Identification Points']\n",
    "df_poi = df_poi[df_poi.category != 'Financial insurance']\n",
    "df_poi = df_poi[df_poi.category != 'Health social security']\n",
    "df_poi = df_poi[df_poi.category != 'Company business']\n",
    "df_poi = df_poi[df_poi.category != 'Life service']\n",
    "df_poi = df_poi[df_poi.category != 'Get accommodation']\n",
    "df_poi = df_poi[df_poi.category != 'Real Estate Park and Warehousing']"
   ]
  },
  {
   "cell_type": "code",
   "execution_count": 107,
   "metadata": {},
   "outputs": [],
   "source": [
    "df_poi['newLon'] = df_poi[['GPSX', 'GPSY']].apply(getNewLongitude, axis=1)\n",
    "df_poi['newLat'] = df_poi[['GPSX', 'GPSY']].apply(getNewLatitude, axis=1)"
   ]
  },
  {
   "cell_type": "code",
   "execution_count": 109,
   "metadata": {},
   "outputs": [],
   "source": [
    "df_poi = df_poi[['category', 'newLon','newLat']]"
   ]
  },
  {
   "cell_type": "code",
   "execution_count": 110,
   "metadata": {},
   "outputs": [],
   "source": [
    "df_poi.to_pickle('simplepoi.pk')"
   ]
  },
  {
   "cell_type": "markdown",
   "metadata": {},
   "source": [
    "# 2) calculating interests arround a person who answer the pole"
   ]
  },
  {
   "cell_type": "code",
   "execution_count": null,
   "metadata": {},
   "outputs": [],
   "source": [
    "import time\n",
    "\n",
    "average_price = []\n",
    "t = time.time()\n",
    "\n",
    "for i in range (len(df_target)):\n",
    "    average = 0\n",
    "    c = 0\n",
    "    for j in range (len(df_anjuke)):\n",
    "        if df_target.iloc[i,9].distance(df_anjuke.iloc[j,-1]) < 0.1:\n",
    "            average = average + int(df_anjuke.iloc[j,8])\n",
    "            c+=1\n",
    "    if c > 0:\n",
    "        average_price.append(average/c)\n",
    "    else:\n",
    "        average_price.append(np.nan)\n",
    "    \n",
    "print(time.time()-t)\n",
    "print(average_price)"
   ]
  }
 ],
 "metadata": {
  "kernelspec": {
   "display_name": "Python 3",
   "language": "python",
   "name": "python3"
  },
  "language_info": {
   "codemirror_mode": {
    "name": "ipython",
    "version": 3
   },
   "file_extension": ".py",
   "mimetype": "text/x-python",
   "name": "python",
   "nbconvert_exporter": "python",
   "pygments_lexer": "ipython3",
   "version": "3.7.3"
  }
 },
 "nbformat": 4,
 "nbformat_minor": 4
}
